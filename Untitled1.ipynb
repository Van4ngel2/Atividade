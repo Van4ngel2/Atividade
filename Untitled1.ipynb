{
  "nbformat": 4,
  "nbformat_minor": 0,
  "metadata": {
    "colab": {
      "name": "Untitled1.ipynb",
      "provenance": [],
      "authorship_tag": "ABX9TyMCweTYNETnwNyq93ZPivon",
      "include_colab_link": true
    },
    "kernelspec": {
      "name": "python3",
      "display_name": "Python 3"
    },
    "language_info": {
      "name": "python"
    }
  },
  "cells": [
    {
      "cell_type": "markdown",
      "metadata": {
        "id": "view-in-github",
        "colab_type": "text"
      },
      "source": [
        "<a href=\"https://colab.research.google.com/github/Van4ngel2/Atividade/blob/main/Untitled1.ipynb\" target=\"_parent\"><img src=\"https://colab.research.google.com/assets/colab-badge.svg\" alt=\"Open In Colab\"/></a>"
      ]
    },
    {
      "cell_type": "code",
      "execution_count": null,
      "metadata": {
        "id": "tM1HFo99yzme",
        "outputId": "1d83e7bc-3400-4940-ac8e-29f18bc19f35",
        "colab": {
          "base_uri": "https://localhost:8080/"
        }
      },
      "outputs": [
        {
          "output_type": "stream",
          "name": "stdout",
          "text": [
            "Insira um numero9\n",
            "insira o segundo numero9\n",
            "x = 18\n"
          ]
        }
      ],
      "source": [
        "a = int(input(\"Insira um numero\"))\n",
        "b = int(input(\"insira o segundo numero\"))\n",
        "print(f\"x = {a + b}\")\n"
      ]
    }
  ]
}